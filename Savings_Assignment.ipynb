{
  "nbformat": 4,
  "nbformat_minor": 0,
  "metadata": {
    "colab": {
      "name": "Savings Assignment",
      "provenance": [],
      "authorship_tag": "ABX9TyPG8lHPMAe38Po3/2sXcbFA",
      "include_colab_link": true
    },
    "kernelspec": {
      "name": "python3",
      "display_name": "Python 3"
    }
  },
  "cells": [
    {
      "cell_type": "markdown",
      "metadata": {
        "id": "view-in-github",
        "colab_type": "text"
      },
      "source": [
        "<a href=\"https://colab.research.google.com/github/Chanjj6/BCS109/blob/master/Savings_Assignment.ipynb\" target=\"_parent\"><img src=\"https://colab.research.google.com/assets/colab-badge.svg\" alt=\"Open In Colab\"/></a>"
      ]
    },
    {
      "cell_type": "markdown",
      "metadata": {
        "id": "_pQucd062QYr",
        "colab_type": "text"
      },
      "source": [
        "# Present Value\n",
        "This code will tell us the present value of an investment. The code will ask the person to input the annual interest rate and the number of years the money will grow. Then the code will do the math and output the value the person would need to deposit to get to the value that they want.\n",
        "\n",
        "The formula for us to find this is PV=FV/(1+r)**years\n",
        "\n",
        "It will also how much money the person will get later if he invests a certain amount\n",
        "To find this the formula  would be Fv = PV(1+r)**years"
      ]
    },
    {
      "cell_type": "code",
      "metadata": {
        "id": "IsT97fcb2Pl8",
        "colab_type": "code",
        "colab": {
          "base_uri": "https://localhost:8080/",
          "height": 85
        },
        "outputId": "ec520096-2dde-4649-899e-4998311a461b"
      },
      "source": [
        "FV = float(input('What is the future value:'))\n",
        "rate = float(input('What is the annual interest rate:'))\n",
        "years= int(input('How many years will the money grow for:'))\n",
        "PV = FV / (1.0 + rate )**years\n",
        "print('You will need to put in this much:',PV)\n",
        "\n",
        "\n",
        "\n",
        "\n"
      ],
      "execution_count": 24,
      "outputs": [
        {
          "output_type": "stream",
          "text": [
            "What is the future value:50000\n",
            "What is the annual interest rate:5\n",
            "How many years will the money grow for:4\n",
            "You will need to put in this much: 38.58024691358025\n"
          ],
          "name": "stdout"
        }
      ]
    },
    {
      "cell_type": "markdown",
      "metadata": {
        "id": "FLkC_I3__HnG",
        "colab_type": "text"
      },
      "source": [
        "#Second Section\n",
        "This will also how much money the person will get later if he invests a certain amount \n",
        "\n",
        "To find this the formula would be Fv = PV(1+r)**years"
      ]
    },
    {
      "cell_type": "code",
      "metadata": {
        "id": "eT9uaJ_a_R9U",
        "colab_type": "code",
        "colab": {
          "base_uri": "https://localhost:8080/",
          "height": 85
        },
        "outputId": "6c0bd108-8727-4745-d44e-17837ac5045f"
      },
      "source": [
        "IV = float(input('How much do you want to invest:'))\n",
        "rate = float(input('What is the annual interest rate:'))\n",
        "years= int(input('How many years will the money grow for:'))\n",
        "\n",
        "End = IV *(1.0 + rate )**years\n",
        "\n",
        "print(f'It will grow to {End} in {years} years'  )"
      ],
      "execution_count": 23,
      "outputs": [
        {
          "output_type": "stream",
          "text": [
            "How much do you want to invest:50000\n",
            "What is the annual interest rate:5\n",
            "How many years will the money grow for:4\n",
            "It will grow to 64800000.0 in 4 years\n"
          ],
          "name": "stdout"
        }
      ]
    }
  ]
}