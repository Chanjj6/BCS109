{
  "nbformat": 4,
  "nbformat_minor": 0,
  "metadata": {
    "colab": {
      "name": "Metrics",
      "provenance": [],
      "authorship_tag": "ABX9TyMgwwCTiyYY4Fe9aw/NLiaX",
      "include_colab_link": true
    },
    "kernelspec": {
      "name": "python3",
      "display_name": "Python 3"
    }
  },
  "cells": [
    {
      "cell_type": "markdown",
      "metadata": {
        "id": "view-in-github",
        "colab_type": "text"
      },
      "source": [
        "<a href=\"https://colab.research.google.com/github/Chanjj6/BCS109/blob/master/Metrics.ipynb\" target=\"_parent\"><img src=\"https://colab.research.google.com/assets/colab-badge.svg\" alt=\"Open In Colab\"/></a>"
      ]
    },
    {
      "cell_type": "markdown",
      "metadata": {
        "id": "DT45OZDoH5dC"
      },
      "source": [
        "##Accuracy\n",
        "Accuracy is a metric to help us make correct predictions.Accuracy will help us predict the future from our data set.    "
      ]
    },
    {
      "cell_type": "markdown",
      "metadata": {
        "id": "yFBqF3QYi2TM"
      },
      "source": [
        "##Prescision\n",
        "Prescision is another metric that would help us have an outcome that are relatively close to each other. Prescision can help output a certain number depending on the user. You would want to use prescision when you are selling something and you are benefitting more than the customer."
      ]
    },
    {
      "cell_type": "markdown",
      "metadata": {
        "id": "aSbLylLAjASW"
      },
      "source": [
        "##Recall\n",
        "Recall means that the outcome of other predictions are correct and it avoids many mistakes. Recall would be better than precision when there are smaller numbers which would lead to a greater result. "
      ]
    },
    {
      "cell_type": "markdown",
      "metadata": {
        "id": "_ZMhg0ZxMPbo"
      },
      "source": [
        "##What is a confusion matrix \n",
        "A confusion matrix is a visual representation that when is outputed it will show the user the result for all the metrics that was used throughout the code.\n"
      ]
    },
    {
      "cell_type": "code",
      "metadata": {
        "colab": {
          "base_uri": "https://localhost:8080/"
        },
        "id": "o3dPuYSjefiq",
        "outputId": "a8169937-dac3-495c-e329-852cb6c7ce53"
      },
      "source": [
        "#precision\n",
        "TP = 350\n",
        "FP = 75\n",
        "precision = TP / (TP + FP)\n",
        "print(f\"precision: {precision:.2f}\")"
      ],
      "execution_count": 9,
      "outputs": [
        {
          "output_type": "stream",
          "text": [
            "precision: 0.82\n"
          ],
          "name": "stdout"
        }
      ]
    },
    {
      "cell_type": "code",
      "metadata": {
        "colab": {
          "base_uri": "https://localhost:8080/"
        },
        "id": "rKE4HdsBfZA8",
        "outputId": "0007d702-0b71-45b2-e1ab-2c3c5d4b23a6"
      },
      "source": [
        "#recall\n",
        "TP = 350\n",
        "FN = 15\n",
        "recall = TP / (TP + FN)\n",
        "print(f\"recall: {recall:.2f}\")"
      ],
      "execution_count": 12,
      "outputs": [
        {
          "output_type": "stream",
          "text": [
            "recall: 0.96\n"
          ],
          "name": "stdout"
        }
      ]
    },
    {
      "cell_type": "code",
      "metadata": {
        "colab": {
          "base_uri": "https://localhost:8080/"
        },
        "id": "CJe2BIaUlhl5",
        "outputId": "eb52302e-95a8-476f-facd-52f1c7e0b7fc"
      },
      "source": [
        "#F1\n",
        "TF = 7 \n",
        "TN = 8\n",
        "print(\"  FN    FP   TP     pre   acc   rec   f1\")\n",
        "for FN in range(0, 7):\n",
        "    for FP in range(0, FN+1):\n",
        "        TP = 100 - FN - FP - TF\n",
        "        precision = TP / (TP + FP)\n",
        "        accuracy = (TP + TN)/(TP + TN + FP + FN)\n",
        "        recall = TP / (TP + FN)\n",
        "        f1_score = 2 * precision * recall / (precision + recall)\n",
        "        print(f\"{FN:6.2f}{FP:6.2f}{TP:6.2f}\", end=\"\")\n",
        "        print(f\"{precision:6.2f}{accuracy:6.2f}{recall:6.2f}{f1_score:6.2f}\")"
      ],
      "execution_count": 21,
      "outputs": [
        {
          "output_type": "stream",
          "text": [
            "  FN    FP   TP     pre   acc   rec   f1\n",
            "  0.00  0.00 93.00  1.00  1.00  1.00  1.00\n",
            "  1.00  0.00 92.00  1.00  0.99  0.99  0.99\n",
            "  1.00  1.00 91.00  0.99  0.98  0.99  0.99\n",
            "  2.00  0.00 91.00  1.00  0.98  0.98  0.99\n",
            "  2.00  1.00 90.00  0.99  0.97  0.98  0.98\n",
            "  2.00  2.00 89.00  0.98  0.96  0.98  0.98\n",
            "  3.00  0.00 90.00  1.00  0.97  0.97  0.98\n",
            "  3.00  1.00 89.00  0.99  0.96  0.97  0.98\n",
            "  3.00  2.00 88.00  0.98  0.95  0.97  0.97\n",
            "  3.00  3.00 87.00  0.97  0.94  0.97  0.97\n",
            "  4.00  0.00 89.00  1.00  0.96  0.96  0.98\n",
            "  4.00  1.00 88.00  0.99  0.95  0.96  0.97\n",
            "  4.00  2.00 87.00  0.98  0.94  0.96  0.97\n",
            "  4.00  3.00 86.00  0.97  0.93  0.96  0.96\n",
            "  4.00  4.00 85.00  0.96  0.92  0.96  0.96\n",
            "  5.00  0.00 88.00  1.00  0.95  0.95  0.97\n",
            "  5.00  1.00 87.00  0.99  0.94  0.95  0.97\n",
            "  5.00  2.00 86.00  0.98  0.93  0.95  0.96\n",
            "  5.00  3.00 85.00  0.97  0.92  0.94  0.96\n",
            "  5.00  4.00 84.00  0.95  0.91  0.94  0.95\n",
            "  5.00  5.00 83.00  0.94  0.90  0.94  0.94\n",
            "  6.00  0.00 87.00  1.00  0.94  0.94  0.97\n",
            "  6.00  1.00 86.00  0.99  0.93  0.93  0.96\n",
            "  6.00  2.00 85.00  0.98  0.92  0.93  0.96\n",
            "  6.00  3.00 84.00  0.97  0.91  0.93  0.95\n",
            "  6.00  4.00 83.00  0.95  0.90  0.93  0.94\n",
            "  6.00  5.00 82.00  0.94  0.89  0.93  0.94\n",
            "  6.00  6.00 81.00  0.93  0.88  0.93  0.93\n"
          ],
          "name": "stdout"
        }
      ]
    },
    {
      "cell_type": "markdown",
      "metadata": {
        "id": "gixxncLynXMf"
      },
      "source": [
        "##Type 1\n",
        "A type 1 error would be the false positive that is in your confusion matrix. For example 4 is your true positive and 5 is the false positive. 3 is the true negative and 1 is the false negative. Then A type 1 error would be 5 because your alpha level is too high if you lower it then the chance of getting a type 1 error will go down ."
      ]
    },
    {
      "cell_type": "markdown",
      "metadata": {
        "id": "RAWrwEL-osmQ"
      },
      "source": [
        "##Type 2 \n",
        "A type 2 error is the false negative that is in the confusion matrix. A type 2 error would occur when something is out of place which disrupts the balance of the data. In order to prevent this from happening if you increase the sample size."
      ]
    },
    {
      "cell_type": "markdown",
      "metadata": {
        "id": "HrqNC1YapuhJ"
      },
      "source": [
        "##Why do we use train.test,split() function from Python when analyzing data?    \n",
        "\n",
        "We use train.test,split()function when analyzing data beacuse it is a quick and easy way to compare the answers from algorithms to the answers that you predicted.\n",
        " \n"
      ]
    },
    {
      "cell_type": "markdown",
      "metadata": {
        "id": "F73zNnLu1c2v"
      },
      "source": [
        ""
      ]
    },
    {
      "cell_type": "markdown",
      "metadata": {
        "id": "LiTKD-KRsmQR"
      },
      "source": [
        "##What is the point of splitting data?\n",
        "The point in splitting data is so the user is able to see 3 different sets which enables the user the easily read the data. In doing so the user can focus on the main points and not look at other points which may not be useful to the user."
      ]
    },
    {
      "cell_type": "markdown",
      "metadata": {
        "id": "HmfPCu_suOa2"
      },
      "source": [
        "##What is the bias vs. variance tradeoff?\n",
        "Bias is when a machine learning method is unable to find an accurate relationship to the data. \n",
        "Variance is the difference in fits between data sets.\n",
        "\n"
      ]
    }
  ]
}