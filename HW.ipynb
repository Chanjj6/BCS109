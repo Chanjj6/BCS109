{
  "nbformat": 4,
  "nbformat_minor": 0,
  "metadata": {
    "colab": {
      "name": "HW",
      "provenance": [],
      "authorship_tag": "ABX9TyOu1k4wVVE6/mDqzyOtElQI",
      "include_colab_link": true
    },
    "kernelspec": {
      "name": "python3",
      "display_name": "Python 3"
    }
  },
  "cells": [
    {
      "cell_type": "markdown",
      "metadata": {
        "id": "view-in-github",
        "colab_type": "text"
      },
      "source": [
        "<a href=\"https://colab.research.google.com/github/Chanjj6/BCS109/blob/master/HW.ipynb\" target=\"_parent\"><img src=\"https://colab.research.google.com/assets/colab-badge.svg\" alt=\"Open In Colab\"/></a>"
      ]
    },
    {
      "cell_type": "markdown",
      "metadata": {
        "id": "XppzAsUAtksh"
      },
      "source": [
        "#What is your age?\n",
        "This code will be asking the user to input their age and name. The code will then say if the age is acceptable or not"
      ]
    },
    {
      "cell_type": "code",
      "metadata": {
        "id": "7F4K_pgu_lBr"
      },
      "source": [
        "import re \n",
        "counter=0\n",
        "\n",
        "name=input('What is your name? ')\n",
        "upcase=lowcase=num=False\n",
        "special=False\n",
        "for letter in name:\n",
        "  if letter.isupper():\n",
        "    upcase=True\n",
        "  if letter.islower():\n",
        "    lowcase=True\n",
        "  if letter.isnumeric():\n",
        "    num=True\n",
        "if re.findall('\\[^A-Za-z0-9',name):\n",
        "  special=True\n",
        "if (upcase is True) and (lowcase is True) and (num is False) and (special is False):\n",
        "  print('acceptable')\n",
        "else:\n",
        "  print('unacceptable')\n",
        "\n",
        "   \n",
        "\n",
        "\n",
        "while (counter !=3):\n",
        "  counter +=1\n",
        " \n",
        "  age = int(input(\"What is your age? \"))\n",
        " \n",
        "  if 1 <= age and age <= 100 :\n",
        "    print(\"acceptable  \")\n",
        "    break  \n",
        "  else:\n",
        "    print(\"unacceptable\")\n",
        "  if counter == 3:\n",
        "    break\n",
        "   "
      ],
      "execution_count": null,
      "outputs": []
    },
    {
      "cell_type": "markdown",
      "metadata": {
        "id": "Istk15MMug6s"
      },
      "source": [
        "#3s\n",
        "This code will output numbers that have 3 in it\n"
      ]
    },
    {
      "cell_type": "code",
      "metadata": {
        "id": "5aFKNFBVugjE"
      },
      "source": [
        "for x in range(1,1000):\n",
        "  if x%10==3:\n",
        "    print(f\"{x}\",end=\"|\")"
      ],
      "execution_count": null,
      "outputs": []
    },
    {
      "cell_type": "markdown",
      "metadata": {
        "id": "chwkusdUGk30"
      },
      "source": [
        "#Password\n",
        "This code will tell you to create a password and will tell you what is wrong if your password is invalid"
      ]
    },
    {
      "cell_type": "code",
      "metadata": {
        "id": "S3pdcuo2HjJ6"
      },
      "source": [
        "password=input('Please, type your password ')\n",
        "x = 0\n",
        "upcase=lowcase=num=False\n",
        "special=False\n",
        "for letter in password:\n",
        "  x = x + 1\n",
        "  if letter.isupper():\n",
        "    upcase=True\n",
        "  if letter.islower():\n",
        "    lowcase=True\n",
        "  if letter.isnumeric():\n",
        "    num=True\n",
        "if re.findall('\\[^A-Za-z0-9',password):\n",
        "  special=True\n",
        "if (x >= 8) and (upcase is True) and (lowcase is True) and (num is True) and (special is True):\n",
        "  print('valid')\n",
        "else:\n",
        "  print('invalid')"
      ],
      "execution_count": null,
      "outputs": []
    },
    {
      "cell_type": "markdown",
      "metadata": {
        "id": "0eI9ZTa0jQ4R"
      },
      "source": [
        "#Backwards even numbers\n",
        "This code will output all the even numbers from 100 to 1"
      ]
    },
    {
      "cell_type": "code",
      "metadata": {
        "id": "WpbPkQa5jYDl"
      },
      "source": [
        "y=102\n",
        "while y!=2:\n",
        "  x = y-2\n",
        "  print(x)\n",
        "  y = y-2\n",
        "  if y==2:\n",
        "    break\n",
        "  \n"
      ],
      "execution_count": null,
      "outputs": []
    },
    {
      "cell_type": "markdown",
      "metadata": {
        "id": "2Gh_soQJ4T47"
      },
      "source": [
        "#Prime numbers\n",
        "This code will tell us all the prime numbers between 100 and 1000"
      ]
    },
    {
      "cell_type": "code",
      "metadata": {
        "id": "yrDSOcoc4brn"
      },
      "source": [
        "x = 100\n",
        "y = 1000\n",
        "\n",
        "\n",
        "\n",
        "for num in range(x, y + 1):\n",
        "   if num > 1:\n",
        "       for i in range(2, num):\n",
        "           if (num % i) == 0:\n",
        "               break\n",
        "       else:\n",
        "           print(f\"{num}\",end= \"|\")"
      ],
      "execution_count": null,
      "outputs": []
    }
  ]
}