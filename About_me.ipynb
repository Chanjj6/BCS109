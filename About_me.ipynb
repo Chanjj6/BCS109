{
  "nbformat": 4,
  "nbformat_minor": 0,
  "metadata": {
    "colab": {
      "name": "About me",
      "provenance": [],
      "authorship_tag": "ABX9TyOMxrk07LaTV1U9XCsCjZ90",
      "include_colab_link": true
    },
    "kernelspec": {
      "name": "python3",
      "display_name": "Python 3"
    }
  },
  "cells": [
    {
      "cell_type": "markdown",
      "metadata": {
        "id": "view-in-github",
        "colab_type": "text"
      },
      "source": [
        "<a href=\"https://colab.research.google.com/github/Chanjj6/BCS109/blob/master/About_me.ipynb\" target=\"_parent\"><img src=\"https://colab.research.google.com/assets/colab-badge.svg\" alt=\"Open In Colab\"/></a>"
      ]
    },
    {
      "cell_type": "code",
      "metadata": {
        "id": "50_VMT_hYVBl",
        "colab_type": "code",
        "colab": {}
      },
      "source": [
        ""
      ],
      "execution_count": null,
      "outputs": []
    },
    {
      "cell_type": "markdown",
      "metadata": {
        "id": "fmkxnwcSYZFS",
        "colab_type": "text"
      },
      "source": [
        "##My name is *Jason Chan* something  **interesting** about me is that I been to **Singapore** before"
      ]
    }
  ]
}