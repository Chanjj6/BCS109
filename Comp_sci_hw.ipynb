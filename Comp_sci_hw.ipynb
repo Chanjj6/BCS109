{
  "nbformat": 4,
  "nbformat_minor": 0,
  "metadata": {
    "colab": {
      "name": "Comp sci hw",
      "provenance": [],
      "collapsed_sections": [],
      "authorship_tag": "ABX9TyOX7m+inWcNRDGqnsgCEbjI",
      "include_colab_link": true
    },
    "kernelspec": {
      "name": "python3",
      "display_name": "Python 3"
    }
  },
  "cells": [
    {
      "cell_type": "markdown",
      "metadata": {
        "id": "view-in-github",
        "colab_type": "text"
      },
      "source": [
        "<a href=\"https://colab.research.google.com/github/Chanjj6/BCS109/blob/master/Comp_sci_hw.ipynb\" target=\"_parent\"><img src=\"https://colab.research.google.com/assets/colab-badge.svg\" alt=\"Open In Colab\"/></a>"
      ]
    },
    {
      "cell_type": "code",
      "metadata": {
        "id": "GgKZye0NR3-Q"
      },
      "source": [
        "#function to find the highest number\n",
        "def theMax(numbers):\n",
        "  max = -1\n",
        "  for x in numbers:\n",
        "    if max<x:\n",
        "      max=x\n",
        "  return max\n",
        "\n",
        "#function to find the lowest number\n",
        "def mini(numbers):\n",
        "  mini=1000000\n",
        "  for y in numbers:\n",
        "    if mini>y: \n",
        "      mini=y\n",
        "  return mini\n",
        "\n",
        "#function to find the average\n",
        "def ave(numbers):\n",
        "  aver=0\n",
        "  for z in numbers:\n",
        "    aver += z\n",
        "  return aver/ len(numbers)\n",
        "\n",
        "#function to find the standard deviation\n",
        "def SD(numbers):\n",
        "  stan =0 \n",
        "  avg=ave(numbers)\n",
        "  for x in bumber:\n",
        "    stan+=pow(k-avg,2)\n",
        "  return pow(stan/(len(numbers))\n",
        "\n"
      ],
      "execution_count": null,
      "outputs": []
    },
    {
      "cell_type": "code",
      "metadata": {
        "id": "JpdjOr7YaLSV"
      },
      "source": [
        "#function to find the geometric average\n",
        "def geo(numbers):\n",
        "  met =1\n",
        "  for x in numbers:\n",
        "    met *=x\n",
        "  return pow(met,1/len(numbers))"
      ],
      "execution_count": 177,
      "outputs": []
    },
    {
      "cell_type": "code",
      "metadata": {
        "id": "kShTTQKcaPwK",
        "outputId": "885338b9-500a-428d-a268-8887300f7edb",
        "colab": {
          "base_uri": "https://localhost:8080/"
        }
      },
      "source": [
        "5#function that asks the user the shape that they want to analyze\n",
        "import math\n",
        "\n",
        "def shape(): \n",
        "  x = int(input(\"Press 1 for triangle 2 for circle and 3 for square \"))\n",
        "  if x == 1:\n",
        "    triangle()\n",
        "  elif x==2:\n",
        "    circle()\n",
        "  elif x==3:\n",
        "    square()\n",
        "\n",
        "def triangle():\n",
        "  length = float(input(\"What is the length \"))\n",
        "  height= float(input(\"What is the height \"))\n",
        "  z=length*height/2\n",
        "  print(f'The area of the triangle is {z}')\n",
        "  return triangle\n",
        "def circle():\n",
        "  radius = float(input(\"What is the radius \"))\n",
        "  y=radius*radius*math.pi\n",
        "  print(f'The area of the circle is {y}')\n",
        "  return circle\n",
        "def square():\n",
        "  side = float(input(\"What is the side\"))\n",
        "  print(f'The area of the square is {side*4}')\n",
        "  return square\n",
        "shape()"
      ],
      "execution_count": 176,
      "outputs": [
        {
          "output_type": "stream",
          "text": [
            "Press 1 for triangle 2 for circle and 3 for square 2\n",
            "What is the radius 3\n",
            "The area of the circle is 28.274333882308138\n"
          ],
          "name": "stdout"
        }
      ]
    },
    {
      "cell_type": "code",
      "metadata": {
        "id": "7rwpbo5gjfF6",
        "outputId": "449a6e9d-e9c7-4f71-b0af-77af564f1f5d",
        "colab": {
          "base_uri": "https://localhost:8080/"
        }
      },
      "source": [
        "#this function would ask you how you would like to see the list printed out as\n",
        "def num(x):\n",
        "  z= int(input(\"Which option would you like \"))\n",
        "  if z== 1:\n",
        "    return x*2\n",
        "  elif z ==2:\n",
        "    for y in range(len(x)):\n",
        "        x[y] = x[y]*2\n",
        "    return x\n",
        "thelist = [1, 2, 3]\n",
        "printlist= num(thelist)\n",
        "print(printlist)\n",
        "    "
      ],
      "execution_count": 175,
      "outputs": [
        {
          "output_type": "stream",
          "text": [
            "Which option would you like 1\n",
            "[1, 2, 3, 1, 2, 3]\n"
          ],
          "name": "stdout"
        }
      ]
    },
    {
      "cell_type": "code",
      "metadata": {
        "id": "giANRQedyL9q",
        "outputId": "78cb2508-e630-4838-d1d9-756d1eb592ea",
        "colab": {
          "base_uri": "https://localhost:8080/"
        }
      },
      "source": [
        "#this function will put the numbers together\n",
        "def put(x,y):\n",
        "  other = []\n",
        "  for p in range(len(x)):\n",
        "    other.append(x[p] *10 + y[p])\n",
        "  return other\n",
        "\n",
        "x = [4, 2, 1]\n",
        "y = [5, 3, 2]\n",
        "print(put(x,y))"
      ],
      "execution_count": 174,
      "outputs": [
        {
          "output_type": "stream",
          "text": [
            "[45, 23, 12]\n"
          ],
          "name": "stdout"
        }
      ]
    },
    {
      "cell_type": "code",
      "metadata": {
        "id": "dK0_t_RizmT4",
        "outputId": "8d9208e3-9ab5-4b5a-881a-f5e9f8050ad4",
        "colab": {
          "base_uri": "https://localhost:8080/"
        }
      },
      "source": [
        "#this function will return a list of primes\n",
        "def prime():\n",
        "  x=int(input(\"input the number you want the primes until \"))\n",
        "  for num in range(x):\n",
        "   if num > 1:\n",
        "       for i in range(2, num):\n",
        "           if (num % i) == 0:\n",
        "               break\n",
        "       else:\n",
        "           print(f\"{num}\")\n",
        "prime()"
      ],
      "execution_count": 173,
      "outputs": [
        {
          "output_type": "stream",
          "text": [
            "input the number you want the primes until 10\n",
            "2\n",
            "3\n",
            "5\n",
            "7\n"
          ],
          "name": "stdout"
        }
      ]
    },
    {
      "cell_type": "code",
      "metadata": {
        "id": "OuQRIjZcHxfP",
        "outputId": "0aa7af20-8828-469f-adea-9a1cc18683b4",
        "colab": {
          "base_uri": "https://localhost:8080/"
        }
      },
      "source": [
        "def calculations():\n",
        "  x=int(input(\"What is the value of x \"))\n",
        "  y=int(input(\"What is the value of y \"))\n",
        "  z=x+y\n",
        "  p=x-y\n",
        "  return z,p\n",
        "calculations()\n",
        "\n",
        "  \n"
      ],
      "execution_count": 171,
      "outputs": [
        {
          "output_type": "stream",
          "text": [
            "What is the value of x 4\n",
            "What is the value of y 5\n"
          ],
          "name": "stdout"
        },
        {
          "output_type": "execute_result",
          "data": {
            "text/plain": [
              "(9, -1)"
            ]
          },
          "metadata": {
            "tags": []
          },
          "execution_count": 171
        }
      ]
    },
    {
      "cell_type": "code",
      "metadata": {
        "id": "HIOeGVS7LFXb",
        "outputId": "77d9d840-bb4e-4ef9-d79f-3571547a758c",
        "colab": {
          "base_uri": "https://localhost:8080/"
        }
      },
      "source": [
        "x = 0\n",
        "for i in range(1000):\n",
        "    if (i % 3 == 0 or i % 5 == 0):\n",
        "        x = x + i\n",
        "print (x)\n",
        "\n"
      ],
      "execution_count": 170,
      "outputs": [
        {
          "output_type": "stream",
          "text": [
            "233168\n"
          ],
          "name": "stdout"
        }
      ]
    },
    {
      "cell_type": "code",
      "metadata": {
        "id": "ZMVyYqmryi24",
        "outputId": "fd60047f-2664-40c2-d522-8d2aba0fb7d0",
        "colab": {
          "base_uri": "https://localhost:8080/"
        }
      },
      "source": [
        "#this function will sum up the even numbers in the fibonacci sequence\n",
        "def fib():\n",
        "  x=1\n",
        "  y=1\n",
        "  total=0\n",
        "  for p in range(100):\n",
        "    z=x+y\n",
        "    if z % 2 ==0:\n",
        "      if z < 1000:\n",
        "        total+=z\n",
        "    x=y\n",
        "    y=z \n",
        "  return total\n",
        "print(fib())"
      ],
      "execution_count": 151,
      "outputs": [
        {
          "output_type": "stream",
          "text": [
            "798\n"
          ],
          "name": "stdout"
        }
      ]
    }
  ]
}