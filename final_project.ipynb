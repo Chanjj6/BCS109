{
  "nbformat": 4,
  "nbformat_minor": 0,
  "metadata": {
    "colab": {
      "name": "final project",
      "provenance": [],
      "authorship_tag": "ABX9TyOScUHvKh6jQG2M+wSciNqI",
      "include_colab_link": true
    },
    "kernelspec": {
      "name": "python3",
      "display_name": "Python 3"
    }
  },
  "cells": [
    {
      "cell_type": "markdown",
      "metadata": {
        "id": "view-in-github",
        "colab_type": "text"
      },
      "source": [
        "<a href=\"https://colab.research.google.com/github/Chanjj6/BCS109/blob/master/final_project.ipynb\" target=\"_parent\"><img src=\"https://colab.research.google.com/assets/colab-badge.svg\" alt=\"Open In Colab\"/></a>"
      ]
    },
    {
      "cell_type": "markdown",
      "metadata": {
        "id": "cdWs6-W-RNMg"
      },
      "source": [
        "##Introduction \r\n",
        "This data set consists of the world population from 1960 all the way to 2018.\r\n",
        "The country Code is a abbreviation for the Country Name. For the column where it says value that is the population of the country in that certain year. \r\n",
        "\r\n"
      ]
    },
    {
      "cell_type": "code",
      "metadata": {
        "colab": {
          "base_uri": "https://localhost:8080/",
          "height": 204
        },
        "id": "NA6TTOpLGKmF",
        "outputId": "d361bd94-8a61-41ba-acb8-1708dcf32233"
      },
      "source": [
        "##importing data and libraries\r\n",
        "import pandas as pd \r\n",
        "import numpy as np\r\n",
        "import matplotlib.pyplot as plt\r\n",
        "import missingno as msno \r\n",
        "import seaborn as sns\r\n",
        "df = pd.read_csv(\"https://raw.githubusercontent.com/datasets/population/master/data/population.csv\")\r\n",
        "##creating a copy of the old data before any changes\r\n",
        "df_original = df \r\n",
        "##prints the first 5 data\r\n",
        "df.head()"
      ],
      "execution_count": 13,
      "outputs": [
        {
          "output_type": "execute_result",
          "data": {
            "text/html": [
              "<div>\n",
              "<style scoped>\n",
              "    .dataframe tbody tr th:only-of-type {\n",
              "        vertical-align: middle;\n",
              "    }\n",
              "\n",
              "    .dataframe tbody tr th {\n",
              "        vertical-align: top;\n",
              "    }\n",
              "\n",
              "    .dataframe thead th {\n",
              "        text-align: right;\n",
              "    }\n",
              "</style>\n",
              "<table border=\"1\" class=\"dataframe\">\n",
              "  <thead>\n",
              "    <tr style=\"text-align: right;\">\n",
              "      <th></th>\n",
              "      <th>Country Name</th>\n",
              "      <th>Country Code</th>\n",
              "      <th>Year</th>\n",
              "      <th>Value</th>\n",
              "    </tr>\n",
              "  </thead>\n",
              "  <tbody>\n",
              "    <tr>\n",
              "      <th>0</th>\n",
              "      <td>Arab World</td>\n",
              "      <td>ARB</td>\n",
              "      <td>1960</td>\n",
              "      <td>92197753</td>\n",
              "    </tr>\n",
              "    <tr>\n",
              "      <th>1</th>\n",
              "      <td>Arab World</td>\n",
              "      <td>ARB</td>\n",
              "      <td>1961</td>\n",
              "      <td>94724510</td>\n",
              "    </tr>\n",
              "    <tr>\n",
              "      <th>2</th>\n",
              "      <td>Arab World</td>\n",
              "      <td>ARB</td>\n",
              "      <td>1962</td>\n",
              "      <td>97334442</td>\n",
              "    </tr>\n",
              "    <tr>\n",
              "      <th>3</th>\n",
              "      <td>Arab World</td>\n",
              "      <td>ARB</td>\n",
              "      <td>1963</td>\n",
              "      <td>100034179</td>\n",
              "    </tr>\n",
              "    <tr>\n",
              "      <th>4</th>\n",
              "      <td>Arab World</td>\n",
              "      <td>ARB</td>\n",
              "      <td>1964</td>\n",
              "      <td>102832760</td>\n",
              "    </tr>\n",
              "  </tbody>\n",
              "</table>\n",
              "</div>"
            ],
            "text/plain": [
              "  Country Name Country Code  Year      Value\n",
              "0   Arab World          ARB  1960   92197753\n",
              "1   Arab World          ARB  1961   94724510\n",
              "2   Arab World          ARB  1962   97334442\n",
              "3   Arab World          ARB  1963  100034179\n",
              "4   Arab World          ARB  1964  102832760"
            ]
          },
          "metadata": {
            "tags": []
          },
          "execution_count": 13
        }
      ]
    },
    {
      "cell_type": "markdown",
      "metadata": {
        "id": "cXHfNNRiRw3Z"
      },
      "source": [
        "##Nulls\r\n",
        "This is to check if there are any missing spots throughout the data set"
      ]
    },
    {
      "cell_type": "code",
      "metadata": {
        "colab": {
          "base_uri": "https://localhost:8080/"
        },
        "id": "3d_RFYxYG8Vx",
        "outputId": "1dc05dd1-7e0c-4b77-e235-704fc74817b2"
      },
      "source": [
        "##checking for any nulls\r\n",
        "df.isnull().sum()"
      ],
      "execution_count": null,
      "outputs": [
        {
          "output_type": "execute_result",
          "data": {
            "text/plain": [
              "Country Name    0\n",
              "Country Code    0\n",
              "Year            0\n",
              "Value           0\n",
              "dtype: int64"
            ]
          },
          "metadata": {
            "tags": []
          },
          "execution_count": 7
        }
      ]
    },
    {
      "cell_type": "markdown",
      "metadata": {
        "id": "7N9l1jJkQyPQ"
      },
      "source": [
        "##Explaning the unique data\r\n",
        "In this data there are 263 country names that are listed and the value equals to the population during a certain year. The data set is 59 years for each part of the world."
      ]
    },
    {
      "cell_type": "code",
      "metadata": {
        "colab": {
          "base_uri": "https://localhost:8080/"
        },
        "id": "fC9-rXb8QiKM",
        "outputId": "a3d9b848-c80b-47bc-e5af-024aab1cbce6"
      },
      "source": [
        "df.nunique()"
      ],
      "execution_count": null,
      "outputs": [
        {
          "output_type": "execute_result",
          "data": {
            "text/plain": [
              "Country Name      263\n",
              "Country Code      263\n",
              "Year               59\n",
              "Value           15222\n",
              "dtype: int64"
            ]
          },
          "metadata": {
            "tags": []
          },
          "execution_count": 8
        }
      ]
    },
    {
      "cell_type": "markdown",
      "metadata": {
        "id": "x_XylKImRuWT"
      },
      "source": [
        "## Information\r\n",
        "This helps tell us what kind of data type each column is."
      ]
    },
    {
      "cell_type": "code",
      "metadata": {
        "colab": {
          "base_uri": "https://localhost:8080/"
        },
        "id": "m9Ty_zjYScpZ",
        "outputId": "03b4c3ce-808b-470c-cf05-00b9a91f8a80"
      },
      "source": [
        "##This checks what type of data each column is\r\n",
        "df.info()"
      ],
      "execution_count": null,
      "outputs": [
        {
          "output_type": "stream",
          "text": [
            "<class 'pandas.core.frame.DataFrame'>\n",
            "RangeIndex: 15409 entries, 0 to 15408\n",
            "Data columns (total 4 columns):\n",
            " #   Column        Non-Null Count  Dtype \n",
            "---  ------        --------------  ----- \n",
            " 0   Country Name  15409 non-null  object\n",
            " 1   Country Code  15409 non-null  object\n",
            " 2   Year          15409 non-null  int64 \n",
            " 3   Value         15409 non-null  int64 \n",
            "dtypes: int64(2), object(2)\n",
            "memory usage: 481.7+ KB\n"
          ],
          "name": "stdout"
        }
      ]
    },
    {
      "cell_type": "markdown",
      "metadata": {
        "id": "0eQ2rZuJSkPX"
      },
      "source": [
        "## Converting\r\n",
        "By converting these int64 data types to a numeric data type we can use this for later use."
      ]
    },
    {
      "cell_type": "code",
      "metadata": {
        "colab": {
          "base_uri": "https://localhost:8080/",
          "height": 204
        },
        "id": "7_mbL83wTXlX",
        "outputId": "11e02673-2665-42d5-ddda-1e47da4ef0c5"
      },
      "source": [
        "##Converting all the int 64 data types to a numeric data type \r\n",
        "df[['Year','Value']] = \\\r\n",
        "    df[['Year','Value']].apply(pd.to_numeric)\r\n",
        "df.head()"
      ],
      "execution_count": null,
      "outputs": [
        {
          "output_type": "execute_result",
          "data": {
            "text/html": [
              "<div>\n",
              "<style scoped>\n",
              "    .dataframe tbody tr th:only-of-type {\n",
              "        vertical-align: middle;\n",
              "    }\n",
              "\n",
              "    .dataframe tbody tr th {\n",
              "        vertical-align: top;\n",
              "    }\n",
              "\n",
              "    .dataframe thead th {\n",
              "        text-align: right;\n",
              "    }\n",
              "</style>\n",
              "<table border=\"1\" class=\"dataframe\">\n",
              "  <thead>\n",
              "    <tr style=\"text-align: right;\">\n",
              "      <th></th>\n",
              "      <th>Country Name</th>\n",
              "      <th>Country Code</th>\n",
              "      <th>Year</th>\n",
              "      <th>Value</th>\n",
              "    </tr>\n",
              "  </thead>\n",
              "  <tbody>\n",
              "    <tr>\n",
              "      <th>0</th>\n",
              "      <td>Arab World</td>\n",
              "      <td>ARB</td>\n",
              "      <td>1960</td>\n",
              "      <td>92197753</td>\n",
              "    </tr>\n",
              "    <tr>\n",
              "      <th>1</th>\n",
              "      <td>Arab World</td>\n",
              "      <td>ARB</td>\n",
              "      <td>1961</td>\n",
              "      <td>94724510</td>\n",
              "    </tr>\n",
              "    <tr>\n",
              "      <th>2</th>\n",
              "      <td>Arab World</td>\n",
              "      <td>ARB</td>\n",
              "      <td>1962</td>\n",
              "      <td>97334442</td>\n",
              "    </tr>\n",
              "    <tr>\n",
              "      <th>3</th>\n",
              "      <td>Arab World</td>\n",
              "      <td>ARB</td>\n",
              "      <td>1963</td>\n",
              "      <td>100034179</td>\n",
              "    </tr>\n",
              "    <tr>\n",
              "      <th>4</th>\n",
              "      <td>Arab World</td>\n",
              "      <td>ARB</td>\n",
              "      <td>1964</td>\n",
              "      <td>102832760</td>\n",
              "    </tr>\n",
              "  </tbody>\n",
              "</table>\n",
              "</div>"
            ],
            "text/plain": [
              "  Country Name Country Code  Year      Value\n",
              "0   Arab World          ARB  1960   92197753\n",
              "1   Arab World          ARB  1961   94724510\n",
              "2   Arab World          ARB  1962   97334442\n",
              "3   Arab World          ARB  1963  100034179\n",
              "4   Arab World          ARB  1964  102832760"
            ]
          },
          "metadata": {
            "tags": []
          },
          "execution_count": 12
        }
      ]
    },
    {
      "cell_type": "markdown",
      "metadata": {
        "id": "uSQdJiZ-TEDc"
      },
      "source": [
        "##Stats\r\n",
        "This helps know the statistics to our data that has a numerica value"
      ]
    },
    {
      "cell_type": "code",
      "metadata": {
        "colab": {
          "base_uri": "https://localhost:8080/",
          "height": 297
        },
        "id": "5ii73kUrUlfz",
        "outputId": "c1d96b07-3158-4ff3-93a3-a75aee539c48"
      },
      "source": [
        "df.describe()"
      ],
      "execution_count": null,
      "outputs": [
        {
          "output_type": "execute_result",
          "data": {
            "text/html": [
              "<div>\n",
              "<style scoped>\n",
              "    .dataframe tbody tr th:only-of-type {\n",
              "        vertical-align: middle;\n",
              "    }\n",
              "\n",
              "    .dataframe tbody tr th {\n",
              "        vertical-align: top;\n",
              "    }\n",
              "\n",
              "    .dataframe thead th {\n",
              "        text-align: right;\n",
              "    }\n",
              "</style>\n",
              "<table border=\"1\" class=\"dataframe\">\n",
              "  <thead>\n",
              "    <tr style=\"text-align: right;\">\n",
              "      <th></th>\n",
              "      <th>Year</th>\n",
              "      <th>Value</th>\n",
              "    </tr>\n",
              "  </thead>\n",
              "  <tbody>\n",
              "    <tr>\n",
              "      <th>count</th>\n",
              "      <td>15409.000000</td>\n",
              "      <td>1.540900e+04</td>\n",
              "    </tr>\n",
              "    <tr>\n",
              "      <th>mean</th>\n",
              "      <td>1989.069764</td>\n",
              "      <td>2.081236e+08</td>\n",
              "    </tr>\n",
              "    <tr>\n",
              "      <th>std</th>\n",
              "      <td>17.031017</td>\n",
              "      <td>6.868312e+08</td>\n",
              "    </tr>\n",
              "    <tr>\n",
              "      <th>min</th>\n",
              "      <td>1960.000000</td>\n",
              "      <td>3.893000e+03</td>\n",
              "    </tr>\n",
              "    <tr>\n",
              "      <th>25%</th>\n",
              "      <td>1974.000000</td>\n",
              "      <td>9.268410e+05</td>\n",
              "    </tr>\n",
              "    <tr>\n",
              "      <th>50%</th>\n",
              "      <td>1989.000000</td>\n",
              "      <td>6.418773e+06</td>\n",
              "    </tr>\n",
              "    <tr>\n",
              "      <th>75%</th>\n",
              "      <td>2004.000000</td>\n",
              "      <td>4.244904e+07</td>\n",
              "    </tr>\n",
              "    <tr>\n",
              "      <th>max</th>\n",
              "      <td>2018.000000</td>\n",
              "      <td>7.594270e+09</td>\n",
              "    </tr>\n",
              "  </tbody>\n",
              "</table>\n",
              "</div>"
            ],
            "text/plain": [
              "               Year         Value\n",
              "count  15409.000000  1.540900e+04\n",
              "mean    1989.069764  2.081236e+08\n",
              "std       17.031017  6.868312e+08\n",
              "min     1960.000000  3.893000e+03\n",
              "25%     1974.000000  9.268410e+05\n",
              "50%     1989.000000  6.418773e+06\n",
              "75%     2004.000000  4.244904e+07\n",
              "max     2018.000000  7.594270e+09"
            ]
          },
          "metadata": {
            "tags": []
          },
          "execution_count": 13
        }
      ]
    },
    {
      "cell_type": "markdown",
      "metadata": {
        "id": "pFh5wBAKTNsQ"
      },
      "source": [
        "##Missing data \r\n",
        "This will tell us if any data is missing from our set so we would know if we have to impute any data"
      ]
    },
    {
      "cell_type": "code",
      "metadata": {
        "colab": {
          "base_uri": "https://localhost:8080/"
        },
        "id": "nlGK4iVVVCN8",
        "outputId": "225ca18f-5525-4216-850a-3e4ec5560b00"
      },
      "source": [
        "##This is to check if there are any missing data\r\n",
        "df.isna().sum()"
      ],
      "execution_count": null,
      "outputs": [
        {
          "output_type": "execute_result",
          "data": {
            "text/plain": [
              "Country Name    0\n",
              "Country Code    0\n",
              "Year            0\n",
              "Value           0\n",
              "dtype: int64"
            ]
          },
          "metadata": {
            "tags": []
          },
          "execution_count": 14
        }
      ]
    },
    {
      "cell_type": "markdown",
      "metadata": {
        "id": "FEVC5ZBTTc_T"
      },
      "source": [
        "##Histogram\r\n",
        "This graph visualizes the population of the world throghout the years."
      ]
    },
    {
      "cell_type": "code",
      "metadata": {
        "colab": {
          "base_uri": "https://localhost:8080/",
          "height": 672
        },
        "id": "G8qml7O2XdkO",
        "outputId": "2005d68c-b5c0-43ef-e514-31906730226f"
      },
      "source": [
        "df.hist(figsize=(20,10), bins=10,xlabelsize=10, ylabelsize=10)"
      ],
      "execution_count": null,
      "outputs": [
        {
          "output_type": "execute_result",
          "data": {
            "text/plain": [
              "array([[<matplotlib.axes._subplots.AxesSubplot object at 0x7efd09727b38>,\n",
              "        <matplotlib.axes._subplots.AxesSubplot object at 0x7efd075f1e48>]],\n",
              "      dtype=object)"
            ]
          },
          "metadata": {
            "tags": []
          },
          "execution_count": 32
        },
        {
          "output_type": "display_data",
          "data": {
            "image/png": "[encoded data removed]",
            "text/plain": [
              "<Figure size 1440x720 with 2 Axes>"
            ]
          },
          "metadata": {
            "tags": [],
            "needs_background": "light"
          }
        }
      ]
    },
    {
      "cell_type": "markdown",
      "metadata": {
        "id": "lFH8v3lsV4T8"
      },
      "source": [
        "##Bar graph\r\n",
        "This graph visualizes the estimated population every year for the world "
      ]
    },
    {
      "cell_type": "code",
      "metadata": {
        "colab": {
          "base_uri": "https://localhost:8080/",
          "height": 54
        },
        "id": "xGs8P36RYO-w",
        "outputId": "3b89a211-e6ae-487d-990d-9eff1a89de1a"
      },
      "source": [
        "plt.bar(\"Country Code\", \"Value\", data = df, color = \"blue\")\r\n",
        "plt.xlabel(\"Country Code\")\r\n",
        "plt.ylabel(\"Value\")\r\n",
        "plt.title(\"Population for each country \")\r\n",
        "plt.xticks(rotation = 90)\r\n",
        "plt.rcParams['figure.figsize'] = {500,6}\r\n",
        "plt.show()"
      ],
      "execution_count": null,
      "outputs": [
        {
          "output_type": "display_data",
          "data": {
            "image/png": "[encoded data removed]",
            "text/plain": [
              "<Figure size 3600x432 with 1 Axes>"
            ]
          },
          "metadata": {
            "tags": [],
            "needs_background": "light"
          }
        }
      ]
    },
    {
      "cell_type": "markdown",
      "metadata": {
        "id": "PHGl1zR7XdrB"
      },
      "source": [
        "##Correlation Matrix\r\n",
        "A correlation Matrix will help us understnad how close the year is to the population."
      ]
    },
    {
      "cell_type": "code",
      "metadata": {
        "colab": {
          "base_uri": "https://localhost:8080/",
          "height": 595
        },
        "id": "rBrlzZ40G9_B",
        "outputId": "ed90e863-a2a2-46c0-cb7d-eae2235a5c1e"
      },
      "source": [
        "corr=df.corr()\r\n",
        "fig, ax =plt.subplots(figsize=(10,10))\r\n",
        "sns.heatmap(data=corr,square=True, annot=True, cbar=True,ax=ax)"
      ],
      "execution_count": 9,
      "outputs": [
        {
          "output_type": "execute_result",
          "data": {
            "text/plain": [
              "<matplotlib.axes._subplots.AxesSubplot at 0x7f6151c34da0>"
            ]
          },
          "metadata": {
            "tags": []
          },
          "execution_count": 9
        },
        {
          "output_type": "display_data",
          "data": {
            "image/png": "[encoded data removed]",
            "text/plain": [
              "<Figure size 720x720 with 2 Axes>"
            ]
          },
          "metadata": {
            "tags": [],
            "needs_background": "light"
          }
        }
      ]
    },
    {
      "cell_type": "markdown",
      "metadata": {
        "id": "NCXYycLu6E1g"
      },
      "source": [
        "##Question 1 \r\n",
        " Did the population in the Arab World increase or decrease from 1960 - 1970 and by how much ?"
      ]
    },
    {
      "cell_type": "code",
      "metadata": {
        "colab": {
          "base_uri": "https://localhost:8080/",
          "height": 298
        },
        "id": "T1HtiIhc7PUc",
        "outputId": "0f930c51-1e5c-4f0a-b455-0fe97f39e146"
      },
      "source": [
        "year = [1960,1961,1962,1963,1964,1965,1966,1967,1968,1970,]\r\n",
        "population = [92,95,98,101,104,107,110,113,116,119]\r\n",
        "plt.plot(year, population)\r\n",
        "plt.xlabel('Year')\r\n",
        "plt.ylabel('Population (mil)')"
      ],
      "execution_count": null,
      "outputs": [
        {
          "output_type": "execute_result",
          "data": {
            "text/plain": [
              "Text(0, 0.5, 'Population (mil)')"
            ]
          },
          "metadata": {
            "tags": []
          },
          "execution_count": 32
        },
        {
          "output_type": "display_data",
          "data": {
            "image/png": "[encoded data removed]",
            "text/plain": [
              "<Figure size 432x288 with 1 Axes>"
            ]
          },
          "metadata": {
            "tags": [],
            "needs_background": "light"
          }
        }
      ]
    },
    {
      "cell_type": "markdown",
      "metadata": {
        "id": "YI19aECdEFRE"
      },
      "source": [
        "##Answer \r\n",
        "The population of the Arab world from 1960 to 1970 increased and each year the population increased by around 2-3 million a year."
      ]
    },
    {
      "cell_type": "markdown",
      "metadata": {
        "id": "Hd2KaoNXEhp9"
      },
      "source": [
        "##Question 2\r\n",
        "Did the poputlation in the East Asia and Pacific from 1997-2008 increase or decrease and by how much?"
      ]
    },
    {
      "cell_type": "code",
      "metadata": {
        "colab": {
          "base_uri": "https://localhost:8080/",
          "height": 296
        },
        "id": "EIOsnwoLMGyX",
        "outputId": "56b44154-e25b-441b-9f3e-0d0ac00c0255"
      },
      "source": [
        "year = [1997,1998,1999,2000,2001,2002,2003,2004,2005,2006]\r\n",
        "Population = [198,200,202,204,206,208,210,212,214,216]\r\n",
        "plt.plot(year, population)\r\n",
        "plt.xlabel('Year')\r\n",
        "plt.ylabel('Population (mil)')"
      ],
      "execution_count": null,
      "outputs": [
        {
          "output_type": "execute_result",
          "data": {
            "text/plain": [
              "Text(0, 0.5, 'Population (mil)')"
            ]
          },
          "metadata": {
            "tags": []
          },
          "execution_count": 35
        },
        {
          "output_type": "display_data",
          "data": {
            "image/png": "[encoded data removed]",
            "text/plain": [
              "<Figure size 432x288 with 1 Axes>"
            ]
          },
          "metadata": {
            "tags": [],
            "needs_background": "light"
          }
        }
      ]
    },
    {
      "cell_type": "markdown",
      "metadata": {
        "id": "o8ugbU6cN-ww"
      },
      "source": [
        "##Answer \r\n",
        "The population for East Asia and Pacific through 1997-2008 increased. Each year the population incrased around 2 million a year."
      ]
    },
    {
      "cell_type": "markdown",
      "metadata": {
        "id": "88ex10snOYar"
      },
      "source": [
        "##Question 3 \r\n",
        "Did the population in North America from 2006-2015 increase or deacrease and by how much. "
      ]
    },
    {
      "cell_type": "code",
      "metadata": {
        "colab": {
          "base_uri": "https://localhost:8080/",
          "height": 296
        },
        "id": "QieCPs26QDWo",
        "outputId": "ed56d69d-77b9-4ed2-ebef-ca3ccda49d1f"
      },
      "source": [
        "year = [2006,2007,2008,2009,2010,2011,2012,2013,2014,2015]\r\n",
        "population = [331,334,337,340,343,346,349,352,355,358,]\r\n",
        "plt.plot(year, population)\r\n",
        "plt.xlabel('Year')\r\n",
        "plt.ylabel('Population (mil)')"
      ],
      "execution_count": null,
      "outputs": [
        {
          "output_type": "execute_result",
          "data": {
            "text/plain": [
              "Text(0, 0.5, 'Population (mil)')"
            ]
          },
          "metadata": {
            "tags": []
          },
          "execution_count": 41
        },
        {
          "output_type": "display_data",
          "data": {
            "image/png": "[encoded data removed]",
            "text/plain": [
              "<Figure size 432x288 with 1 Axes>"
            ]
          },
          "metadata": {
            "tags": [],
            "needs_background": "light"
          }
        }
      ]
    },
    {
      "cell_type": "markdown",
      "metadata": {
        "id": "0EILA-VrSiUP"
      },
      "source": [
        "##Answer\r\n",
        "The population in North America did increased. The number of people in North America in 2006 was around 331 million. In 2015 the population was around 356 million."
      ]
    }
  ]
}