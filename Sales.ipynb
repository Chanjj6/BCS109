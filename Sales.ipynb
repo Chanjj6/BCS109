{
  "nbformat": 4,
  "nbformat_minor": 0,
  "metadata": {
    "colab": {
      "name": "Sales",
      "provenance": [],
      "collapsed_sections": [],
      "authorship_tag": "ABX9TyNHZQIotIzuCDy208U4fpe1",
      "include_colab_link": true
    },
    "kernelspec": {
      "name": "python3",
      "display_name": "Python 3"
    }
  },
  "cells": [
    {
      "cell_type": "markdown",
      "metadata": {
        "id": "view-in-github",
        "colab_type": "text"
      },
      "source": [
        "<a href=\"https://colab.research.google.com/github/Chanjj6/BCS109/blob/master/Sales.ipynb\" target=\"_parent\"><img src=\"https://colab.research.google.com/assets/colab-badge.svg\" alt=\"Open In Colab\"/></a>"
      ]
    },
    {
      "cell_type": "markdown",
      "metadata": {
        "id": "Nl79056_Vy0W",
        "colab_type": "text"
      },
      "source": [
        "#Sales\n",
        "This code will be telling the user to input the number packages that were purchased and then output the discount they are getting  and also their total cost."
      ]
    },
    {
      "cell_type": "code",
      "metadata": {
        "id": "w1E3DPcXVwoS",
        "colab_type": "code",
        "colab": {
          "base_uri": "https://localhost:8080/",
          "height": 68
        },
        "outputId": "309ae14b-638b-4f6c-db7f-975f9c0cf166"
      },
      "source": [
        "x = int(input(\"How many packages was purchased? \"))\n",
        "if 1 <= x and x <= 9:\n",
        "  print(\"You will not get a discount\")\n",
        "  print(f\"Your total will be {x*99}\")\n",
        "elif 10<=x and x<=19:\n",
        "  print(\"You will get a 10 percent discount\")\n",
        "  t= x * 99\n",
        "  y  = t*.1\n",
        "  z = t - y\n",
        "  print(f\"Your total cost will be {z} after the discount\")\n",
        "elif 20<=x and x<=49:\n",
        "  print(\"You will get a 20 percent discount\")\n",
        "  t= x * 99\n",
        "  y  = t*.2\n",
        "  z = t - y\n",
        "  print(f\"Your total cost will be {z} after the discount\")\n",
        "elif 50<=x and x<=99:\n",
        "  print(\"You will get a 30 percent discount\")\n",
        "  t= x * 99\n",
        "  y  = t*.3\n",
        "  z = t - y\n",
        "  print(f\"Your total cost will be {z} after the discount\")\n",
        "elif 100<=x:\n",
        "  print(\"You will get a 40 percent discount\")\n",
        "  t= x * 99\n",
        "  y  = t*.4\n",
        "  z = t - y\n",
        "  print(f\"Your total cost will be {z} after the discount\")"
      ],
      "execution_count": 38,
      "outputs": [
        {
          "output_type": "stream",
          "text": [
            "How many packages was purchased? 78\n",
            "You will get a 30 percent discount\n",
            "Your total cost will be 5405.4 after the discount\n"
          ],
          "name": "stdout"
        }
      ]
    },
    {
      "cell_type": "markdown",
      "metadata": {
        "id": "s2fuMi8SekZx",
        "colab_type": "text"
      },
      "source": [
        "#The Fast Freight Company \n",
        "In this code it will ask the user to input the weight  of the package in pounds and the output would display the shipping charges based on the weight"
      ]
    },
    {
      "cell_type": "code",
      "metadata": {
        "id": "sdJgCcDPeuj4",
        "colab_type": "code",
        "colab": {
          "base_uri": "https://localhost:8080/",
          "height": 51
        },
        "outputId": "df6255d5-c407-4413-9130-c67c9ac32446"
      },
      "source": [
        "p  = int(input(\"How much does your package  weigh in pounds? \"))\n",
        "if p <=2:\n",
        "  l = p * 1.5\n",
        "  print(f\"The shipping charge for your package will be ${l}\")\n",
        "elif p>2 and p<= 6:\n",
        "  l= p*3.00\n",
        "  print(f\"The shipping charge for your package will be ${l}\")\n",
        "elif p>6 and p<= 10:\n",
        "  l= p*4.00\n",
        "  print(f\"The shipping charge for your package will be ${l}\")\n",
        "elif p>10:\n",
        "  l= p*4.75\n",
        "  print(f\"The shipping charge for your package will be ${l}\")"
      ],
      "execution_count": 50,
      "outputs": [
        {
          "output_type": "stream",
          "text": [
            "How much does your package  weigh in pounds? 25\n",
            "The shipping charge for your package will be $118.75\n"
          ],
          "name": "stdout"
        }
      ]
    }
  ]
}